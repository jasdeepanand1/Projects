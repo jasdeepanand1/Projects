{
  "nbformat": 4,
  "nbformat_minor": 0,
  "metadata": {
    "colab": {
      "provenance": []
    },
    "kernelspec": {
      "name": "python3",
      "display_name": "Python 3"
    },
    "language_info": {
      "name": "python"
    }
  },
  "cells": [
    {
      "cell_type": "markdown",
      "source": [
        "#  **1. Loading Libraries**"
      ],
      "metadata": {
        "id": "2zDETIXpP4O3"
      }
    },
    {
      "cell_type": "code",
      "execution_count": 39,
      "metadata": {
        "id": "BeKB_OnHPzuW"
      },
      "outputs": [],
      "source": [
        "import pandas as pd\n",
        "import numpy as np\n",
        "import pickle\n",
        "import re\n",
        "import random\n",
        "from matplotlib import pyplot as plt\n",
        "from tqdm import tqdm_notebook,tqdm\n",
        "import torch.optim as optim\n",
        "import torch\n",
        "from torch import nn\n",
        "import torch.nn.functional as F"
      ]
    },
    {
      "cell_type": "code",
      "source": [
        "#Setting the seed\n",
        "seed=2009\n",
        "torch.manual_seed(seed)"
      ],
      "metadata": {
        "colab": {
          "base_uri": "https://localhost:8080/"
        },
        "id": "qPnlMoAlQC1C",
        "outputId": "ae30497a-04a7-40f6-c3fd-f04e0f3425ee"
      },
      "execution_count": 2,
      "outputs": [
        {
          "output_type": "execute_result",
          "data": {
            "text/plain": [
              "<torch._C.Generator at 0x7c659ca0bcf0>"
            ]
          },
          "metadata": {},
          "execution_count": 2
        }
      ]
    },
    {
      "cell_type": "markdown",
      "source": [
        "## **2. Loading Datatset**"
      ],
      "metadata": {
        "id": "VjdmVympRtUO"
      }
    },
    {
      "cell_type": "code",
      "source": [
        "#Reading the file\n",
        "with open('/content/wiki.train.tokens','r') as t:\n",
        "  text=t.readlines()"
      ],
      "metadata": {
        "id": "wGmbYEAhQMS8"
      },
      "execution_count": 3,
      "outputs": []
    },
    {
      "cell_type": "code",
      "source": [
        "#Let's check the length\n",
        "len(text)"
      ],
      "metadata": {
        "colab": {
          "base_uri": "https://localhost:8080/"
        },
        "id": "lxzC_nfWQduY",
        "outputId": "cf1c4a11-98dd-451c-88b7-d38ff2766da2"
      },
      "execution_count": 4,
      "outputs": [
        {
          "output_type": "execute_result",
          "data": {
            "text/plain": [
              "36718"
            ]
          },
          "metadata": {},
          "execution_count": 4
        }
      ]
    },
    {
      "cell_type": "markdown",
      "source": [
        "So we have 36k lines"
      ],
      "metadata": {
        "id": "lO6LSQaPRU84"
      }
    },
    {
      "cell_type": "code",
      "source": [
        "#Let's look at few lines\n",
        "text[0:5]"
      ],
      "metadata": {
        "colab": {
          "base_uri": "https://localhost:8080/"
        },
        "id": "nRYCcBuJQi-j",
        "outputId": "a8ecda9d-9225-4009-8d51-90b3f11c7c20"
      },
      "execution_count": 5,
      "outputs": [
        {
          "output_type": "execute_result",
          "data": {
            "text/plain": [
              "[' \\n',\n",
              " ' = Valkyria Chronicles III = \\n',\n",
              " ' \\n',\n",
              " ' Senjō no Valkyria 3 : <unk> Chronicles ( Japanese : 戦場のヴァルキュリア3 , lit . Valkyria of the Battlefield 3 ) , commonly referred to as Valkyria Chronicles III outside Japan , is a tactical role @-@ playing video game developed by Sega and Media.Vision for the PlayStation Portable . Released in January 2011 in Japan , it is the third game in the Valkyria series . <unk> the same fusion of tactical and real @-@ time gameplay as its predecessors , the story runs parallel to the first game and follows the \" Nameless \" , a penal military unit serving the nation of Gallia during the Second Europan War who perform secret black operations and are pitted against the Imperial unit \" <unk> Raven \" . \\n',\n",
              " \" The game began development in 2010 , carrying over a large portion of the work done on Valkyria Chronicles II . While it retained the standard features of the series , it also underwent multiple adjustments , such as making the game more <unk> for series newcomers . Character designer <unk> Honjou and composer Hitoshi Sakimoto both returned from previous entries , along with Valkyria Chronicles II director Takeshi Ozawa . A large team of writers handled the script . The game 's opening theme was sung by May 'n . \\n\"]"
            ]
          },
          "metadata": {},
          "execution_count": 5
        }
      ]
    },
    {
      "cell_type": "markdown",
      "source": [
        "Lots of unclean data"
      ],
      "metadata": {
        "id": "ZYx-J9BvRi8A"
      }
    },
    {
      "cell_type": "markdown",
      "source": [
        "# **3. Preprocessing the data**"
      ],
      "metadata": {
        "id": "eYjnuocKR1ty"
      }
    },
    {
      "cell_type": "code",
      "source": [
        "def cleaner(text):\n",
        "\n",
        "   data=[]\n",
        "   for sentence in text:\n",
        "    # Convert text to lowercase\n",
        "    sentence = sentence.lower()\n",
        "\n",
        "    # Remove non-numeric characters (retains only letters and spaces)\n",
        "    sentence = re.sub(r\"[^a-zA-Z' ]\", '', sentence)\n",
        "\n",
        "    # Remove unk\n",
        "    sentence = re.sub(r'\\bunk\\b', '', sentence)\n",
        "\n",
        "    #Remove extra space\n",
        "    sentence = re.sub(r\"[\\s]+\", ' ', sentence)\n",
        "\n",
        "    #Trim the extra space\n",
        "    sentence = sentence.strip()\n",
        "\n",
        "    data.append(sentence)\n",
        "\n",
        "   return [output for output in data if output.strip()]"
      ],
      "metadata": {
        "id": "ziQO4oHyRbqu"
      },
      "execution_count": 6,
      "outputs": []
    },
    {
      "cell_type": "code",
      "source": [
        "cleaned_text=cleaner(text)"
      ],
      "metadata": {
        "id": "YBKa_nqVSusB"
      },
      "execution_count": 7,
      "outputs": []
    },
    {
      "cell_type": "code",
      "source": [
        "cleaned_text[:5]"
      ],
      "metadata": {
        "colab": {
          "base_uri": "https://localhost:8080/"
        },
        "id": "uPWWd2fQTwEI",
        "outputId": "4c8bf52c-6c7c-40f7-b34a-6367d72dcb7a"
      },
      "execution_count": 8,
      "outputs": [
        {
          "output_type": "execute_result",
          "data": {
            "text/plain": [
              "['valkyria chronicles iii',\n",
              " 'senj no valkyria chronicles japanese lit valkyria of the battlefield commonly referred to as valkyria chronicles iii outside japan is a tactical role playing video game developed by sega and mediavision for the playstation portable released in january in japan it is the third game in the valkyria series the same fusion of tactical and real time gameplay as its predecessors the story runs parallel to the first game and follows the nameless a penal military unit serving the nation of gallia during the second europan war who perform secret black operations and are pitted against the imperial unit raven',\n",
              " \"the game began development in carrying over a large portion of the work done on valkyria chronicles ii while it retained the standard features of the series it also underwent multiple adjustments such as making the game more for series newcomers character designer honjou and composer hitoshi sakimoto both returned from previous entries along with valkyria chronicles ii director takeshi ozawa a large team of writers handled the script the game 's opening theme was sung by may 'n\",\n",
              " \"it met with positive sales in japan and was praised by both japanese and western critics after release it received downloadable content along with an expanded edition in november of that year it was also adapted into manga and an original video animation series due to low sales of valkyria chronicles ii valkyria chronicles iii was not localized but a fan translation compatible with the game 's expanded edition was released in mediavision would return to the franchise with the development of valkyria azure revolution for the playstation\",\n",
              " 'gameplay']"
            ]
          },
          "metadata": {},
          "execution_count": 8
        }
      ]
    },
    {
      "cell_type": "code",
      "source": [
        "len(cleaned_text)"
      ],
      "metadata": {
        "colab": {
          "base_uri": "https://localhost:8080/"
        },
        "id": "tvREhqy-JQoo",
        "outputId": "746fa0f9-274a-4473-df5a-6b4b72d79201"
      },
      "execution_count": 9,
      "outputs": [
        {
          "output_type": "execute_result",
          "data": {
            "text/plain": [
              "23335"
            ]
          },
          "metadata": {},
          "execution_count": 9
        }
      ]
    },
    {
      "cell_type": "markdown",
      "source": [
        "# **4. Let's create vocablury**"
      ],
      "metadata": {
        "id": "HxEuxP0VW8Ig"
      }
    },
    {
      "cell_type": "code",
      "source": [
        "#Tokenizer\n",
        "from tensorflow.keras.preprocessing.text import Tokenizer\n",
        "from tensorflow.keras.preprocessing.sequence import pad_sequences"
      ],
      "metadata": {
        "id": "quwfbVQUU4Zr"
      },
      "execution_count": 10,
      "outputs": []
    },
    {
      "cell_type": "code",
      "source": [
        "x_tokenizer=Tokenizer()"
      ],
      "metadata": {
        "id": "DqK2etOBXF-A"
      },
      "execution_count": 11,
      "outputs": []
    },
    {
      "cell_type": "code",
      "source": [
        "# Fitting on the clean data\n",
        "x_tokenizer.fit_on_texts(cleaned_text)"
      ],
      "metadata": {
        "id": "tAsjxgRJXJ1m"
      },
      "execution_count": 12,
      "outputs": []
    },
    {
      "cell_type": "code",
      "source": [
        "len(x_tokenizer.word_counts)"
      ],
      "metadata": {
        "colab": {
          "base_uri": "https://localhost:8080/"
        },
        "id": "78hywnEVXOqO",
        "outputId": "73818eaa-835f-4a79-ef97-bef7d95a794a"
      },
      "execution_count": 13,
      "outputs": [
        {
          "output_type": "execute_result",
          "data": {
            "text/plain": [
              "27305"
            ]
          },
          "metadata": {},
          "execution_count": 13
        }
      ]
    },
    {
      "cell_type": "markdown",
      "source": [
        "We have 27k words"
      ],
      "metadata": {
        "id": "QxceXuRaXrO4"
      }
    },
    {
      "cell_type": "code",
      "source": [
        "# Let's check min word_count\n",
        "min(x_tokenizer.word_counts.values())"
      ],
      "metadata": {
        "colab": {
          "base_uri": "https://localhost:8080/"
        },
        "id": "6_y5ebDcXT9F",
        "outputId": "034fe506-8d87-43b3-b2e9-57d1713a212d"
      },
      "execution_count": 14,
      "outputs": [
        {
          "output_type": "execute_result",
          "data": {
            "text/plain": [
              "3"
            ]
          },
          "metadata": {},
          "execution_count": 14
        }
      ]
    },
    {
      "cell_type": "code",
      "source": [
        "#Let's pull out words with atleast 4 occurences\n",
        "ct=0\n",
        "freq=4\n",
        "for key,value in x_tokenizer.word_counts.items():\n",
        "  if value>=freq:\n",
        "    ct+=1\n",
        "print(ct)"
      ],
      "metadata": {
        "colab": {
          "base_uri": "https://localhost:8080/"
        },
        "id": "JS1YvfinZrlh",
        "outputId": "f77acb08-f900-4777-90c4-a94ec715e6dc"
      },
      "execution_count": 15,
      "outputs": [
        {
          "output_type": "stream",
          "name": "stdout",
          "text": [
            "22480\n"
          ]
        }
      ]
    },
    {
      "cell_type": "code",
      "source": [
        "#Tokenizing with 4 or more occurence words and rest as unknown_1\n",
        "x_tokenizer = Tokenizer(num_words=ct,oov_token='unkown_1')\n",
        "x_tokenizer.fit_on_texts(cleaned_text)"
      ],
      "metadata": {
        "id": "gsncS29jbcFo"
      },
      "execution_count": 16,
      "outputs": []
    },
    {
      "cell_type": "code",
      "source": [
        "#Let's Check the length of words in the sequence of dialogs\n",
        "def word_ct(text):\n",
        "  sequence_ct=[]\n",
        "  for sentence in text:\n",
        "    sequence_ct.append(len(sentence))\n",
        "  return sequence_ct"
      ],
      "metadata": {
        "id": "ADpZXRVFbvlq"
      },
      "execution_count": 17,
      "outputs": []
    },
    {
      "cell_type": "code",
      "source": [
        "sequence=word_ct(cleaned_text)\n",
        "median_count = pd.Series(sequence).median()\n",
        "mode_count = pd.Series(sequence).mode()[0]\n",
        "pd.Series(sequence).hist(bins=40,edgecolor='black', alpha=0.7)\n",
        "plt.axvline(median_count, color='red', linestyle='dashed', linewidth=1, label=f'Median: {median_count}')\n",
        "plt.axvline(mode_count, color='blue', linestyle='dashed', linewidth=1, label=f'Mode: {mode_count}')\n",
        "print(\"Median count is\",median_count)\n",
        "print(\"Mode count is\",mode_count)"
      ],
      "metadata": {
        "colab": {
          "base_uri": "https://localhost:8080/",
          "height": 465
        },
        "id": "BDNQJJYXc9Xv",
        "outputId": "9bd3f254-d28a-4176-b0b7-4bf1821101cd"
      },
      "execution_count": 18,
      "outputs": [
        {
          "output_type": "stream",
          "name": "stdout",
          "text": [
            "Median count is 360.0\n",
            "Mode count is 7\n"
          ]
        },
        {
          "output_type": "display_data",
          "data": {
            "text/plain": [
              "<Figure size 640x480 with 1 Axes>"
            ],
            "image/png": "[encoded data removed]"
          },
          "metadata": {}
        }
      ]
    },
    {
      "cell_type": "markdown",
      "source": [
        "# **4. Padded Sequence**"
      ],
      "metadata": {
        "id": "ROX_uQTKiyr6"
      }
    },
    {
      "cell_type": "code",
      "source": [
        "#Let's first create a sequence of  words so we could then create x_tr as 21 words\n",
        "def word_seq(text,seq_len):\n",
        "\n",
        "  # Create a list to store the sequences\n",
        "  sequences = []\n",
        "\n",
        "  if len(text.split())>seq_len:\n",
        "    words = text.split()\n",
        "\n",
        "    # Loop through the words and create sequences of the specified length\n",
        "    for i in range(seq_len, len(words)):\n",
        "      sequence = ' '.join(words[i-seq_len:i+1])\n",
        "      sequences.append(sequence)\n",
        "    return (sequences)\n",
        "  else:\n",
        "    return [text]"
      ],
      "metadata": {
        "id": "cZpedy__dDPc"
      },
      "execution_count": 19,
      "outputs": []
    },
    {
      "cell_type": "code",
      "source": [
        "seq_length=21\n",
        "line_sequence = [word_seq(sentence, seq_length) for sentence in tqdm(cleaned_text, desc=\"Processing Sequences\")]"
      ],
      "metadata": {
        "colab": {
          "base_uri": "https://localhost:8080/"
        },
        "id": "-BYoGSol0t5t",
        "outputId": "c83e3226-91a6-4ec9-de71-a20ebb71f5ca"
      },
      "execution_count": 20,
      "outputs": [
        {
          "output_type": "stream",
          "name": "stderr",
          "text": [
            "Processing Sequences: 100%|██████████| 23335/23335 [00:01<00:00, 14588.60it/s]\n"
          ]
        }
      ]
    },
    {
      "cell_type": "code",
      "source": [
        "cleaned_text[1]"
      ],
      "metadata": {
        "colab": {
          "base_uri": "https://localhost:8080/",
          "height": 87
        },
        "id": "QWSBx3aKIRuH",
        "outputId": "5dea423a-ac09-4e3e-8ff7-7a333c19f055"
      },
      "execution_count": 21,
      "outputs": [
        {
          "output_type": "execute_result",
          "data": {
            "text/plain": [
              "'senj no valkyria chronicles japanese lit valkyria of the battlefield commonly referred to as valkyria chronicles iii outside japan is a tactical role playing video game developed by sega and mediavision for the playstation portable released in january in japan it is the third game in the valkyria series the same fusion of tactical and real time gameplay as its predecessors the story runs parallel to the first game and follows the nameless a penal military unit serving the nation of gallia during the second europan war who perform secret black operations and are pitted against the imperial unit raven'"
            ],
            "application/vnd.google.colaboratory.intrinsic+json": {
              "type": "string"
            }
          },
          "metadata": {},
          "execution_count": 21
        }
      ]
    },
    {
      "cell_type": "code",
      "source": [
        "line_sequence[0:2]"
      ],
      "metadata": {
        "colab": {
          "base_uri": "https://localhost:8080/"
        },
        "id": "U45zSNEP26sq",
        "outputId": "3e0c6cf5-a2dd-4c2b-e37a-2017dd79ac89"
      },
      "execution_count": 22,
      "outputs": [
        {
          "output_type": "execute_result",
          "data": {
            "text/plain": [
              "[['valkyria chronicles iii'],\n",
              " ['senj no valkyria chronicles japanese lit valkyria of the battlefield commonly referred to as valkyria chronicles iii outside japan is a tactical',\n",
              "  'no valkyria chronicles japanese lit valkyria of the battlefield commonly referred to as valkyria chronicles iii outside japan is a tactical role',\n",
              "  'valkyria chronicles japanese lit valkyria of the battlefield commonly referred to as valkyria chronicles iii outside japan is a tactical role playing',\n",
              "  'chronicles japanese lit valkyria of the battlefield commonly referred to as valkyria chronicles iii outside japan is a tactical role playing video',\n",
              "  'japanese lit valkyria of the battlefield commonly referred to as valkyria chronicles iii outside japan is a tactical role playing video game',\n",
              "  'lit valkyria of the battlefield commonly referred to as valkyria chronicles iii outside japan is a tactical role playing video game developed',\n",
              "  'valkyria of the battlefield commonly referred to as valkyria chronicles iii outside japan is a tactical role playing video game developed by',\n",
              "  'of the battlefield commonly referred to as valkyria chronicles iii outside japan is a tactical role playing video game developed by sega',\n",
              "  'the battlefield commonly referred to as valkyria chronicles iii outside japan is a tactical role playing video game developed by sega and',\n",
              "  'battlefield commonly referred to as valkyria chronicles iii outside japan is a tactical role playing video game developed by sega and mediavision',\n",
              "  'commonly referred to as valkyria chronicles iii outside japan is a tactical role playing video game developed by sega and mediavision for',\n",
              "  'referred to as valkyria chronicles iii outside japan is a tactical role playing video game developed by sega and mediavision for the',\n",
              "  'to as valkyria chronicles iii outside japan is a tactical role playing video game developed by sega and mediavision for the playstation',\n",
              "  'as valkyria chronicles iii outside japan is a tactical role playing video game developed by sega and mediavision for the playstation portable',\n",
              "  'valkyria chronicles iii outside japan is a tactical role playing video game developed by sega and mediavision for the playstation portable released',\n",
              "  'chronicles iii outside japan is a tactical role playing video game developed by sega and mediavision for the playstation portable released in',\n",
              "  'iii outside japan is a tactical role playing video game developed by sega and mediavision for the playstation portable released in january',\n",
              "  'outside japan is a tactical role playing video game developed by sega and mediavision for the playstation portable released in january in',\n",
              "  'japan is a tactical role playing video game developed by sega and mediavision for the playstation portable released in january in japan',\n",
              "  'is a tactical role playing video game developed by sega and mediavision for the playstation portable released in january in japan it',\n",
              "  'a tactical role playing video game developed by sega and mediavision for the playstation portable released in january in japan it is',\n",
              "  'tactical role playing video game developed by sega and mediavision for the playstation portable released in january in japan it is the',\n",
              "  'role playing video game developed by sega and mediavision for the playstation portable released in january in japan it is the third',\n",
              "  'playing video game developed by sega and mediavision for the playstation portable released in january in japan it is the third game',\n",
              "  'video game developed by sega and mediavision for the playstation portable released in january in japan it is the third game in',\n",
              "  'game developed by sega and mediavision for the playstation portable released in january in japan it is the third game in the',\n",
              "  'developed by sega and mediavision for the playstation portable released in january in japan it is the third game in the valkyria',\n",
              "  'by sega and mediavision for the playstation portable released in january in japan it is the third game in the valkyria series',\n",
              "  'sega and mediavision for the playstation portable released in january in japan it is the third game in the valkyria series the',\n",
              "  'and mediavision for the playstation portable released in january in japan it is the third game in the valkyria series the same',\n",
              "  'mediavision for the playstation portable released in january in japan it is the third game in the valkyria series the same fusion',\n",
              "  'for the playstation portable released in january in japan it is the third game in the valkyria series the same fusion of',\n",
              "  'the playstation portable released in january in japan it is the third game in the valkyria series the same fusion of tactical',\n",
              "  'playstation portable released in january in japan it is the third game in the valkyria series the same fusion of tactical and',\n",
              "  'portable released in january in japan it is the third game in the valkyria series the same fusion of tactical and real',\n",
              "  'released in january in japan it is the third game in the valkyria series the same fusion of tactical and real time',\n",
              "  'in january in japan it is the third game in the valkyria series the same fusion of tactical and real time gameplay',\n",
              "  'january in japan it is the third game in the valkyria series the same fusion of tactical and real time gameplay as',\n",
              "  'in japan it is the third game in the valkyria series the same fusion of tactical and real time gameplay as its',\n",
              "  'japan it is the third game in the valkyria series the same fusion of tactical and real time gameplay as its predecessors',\n",
              "  'it is the third game in the valkyria series the same fusion of tactical and real time gameplay as its predecessors the',\n",
              "  'is the third game in the valkyria series the same fusion of tactical and real time gameplay as its predecessors the story',\n",
              "  'the third game in the valkyria series the same fusion of tactical and real time gameplay as its predecessors the story runs',\n",
              "  'third game in the valkyria series the same fusion of tactical and real time gameplay as its predecessors the story runs parallel',\n",
              "  'game in the valkyria series the same fusion of tactical and real time gameplay as its predecessors the story runs parallel to',\n",
              "  'in the valkyria series the same fusion of tactical and real time gameplay as its predecessors the story runs parallel to the',\n",
              "  'the valkyria series the same fusion of tactical and real time gameplay as its predecessors the story runs parallel to the first',\n",
              "  'valkyria series the same fusion of tactical and real time gameplay as its predecessors the story runs parallel to the first game',\n",
              "  'series the same fusion of tactical and real time gameplay as its predecessors the story runs parallel to the first game and',\n",
              "  'the same fusion of tactical and real time gameplay as its predecessors the story runs parallel to the first game and follows',\n",
              "  'same fusion of tactical and real time gameplay as its predecessors the story runs parallel to the first game and follows the',\n",
              "  'fusion of tactical and real time gameplay as its predecessors the story runs parallel to the first game and follows the nameless',\n",
              "  'of tactical and real time gameplay as its predecessors the story runs parallel to the first game and follows the nameless a',\n",
              "  'tactical and real time gameplay as its predecessors the story runs parallel to the first game and follows the nameless a penal',\n",
              "  'and real time gameplay as its predecessors the story runs parallel to the first game and follows the nameless a penal military',\n",
              "  'real time gameplay as its predecessors the story runs parallel to the first game and follows the nameless a penal military unit',\n",
              "  'time gameplay as its predecessors the story runs parallel to the first game and follows the nameless a penal military unit serving',\n",
              "  'gameplay as its predecessors the story runs parallel to the first game and follows the nameless a penal military unit serving the',\n",
              "  'as its predecessors the story runs parallel to the first game and follows the nameless a penal military unit serving the nation',\n",
              "  'its predecessors the story runs parallel to the first game and follows the nameless a penal military unit serving the nation of',\n",
              "  'predecessors the story runs parallel to the first game and follows the nameless a penal military unit serving the nation of gallia',\n",
              "  'the story runs parallel to the first game and follows the nameless a penal military unit serving the nation of gallia during',\n",
              "  'story runs parallel to the first game and follows the nameless a penal military unit serving the nation of gallia during the',\n",
              "  'runs parallel to the first game and follows the nameless a penal military unit serving the nation of gallia during the second',\n",
              "  'parallel to the first game and follows the nameless a penal military unit serving the nation of gallia during the second europan',\n",
              "  'to the first game and follows the nameless a penal military unit serving the nation of gallia during the second europan war',\n",
              "  'the first game and follows the nameless a penal military unit serving the nation of gallia during the second europan war who',\n",
              "  'first game and follows the nameless a penal military unit serving the nation of gallia during the second europan war who perform',\n",
              "  'game and follows the nameless a penal military unit serving the nation of gallia during the second europan war who perform secret',\n",
              "  'and follows the nameless a penal military unit serving the nation of gallia during the second europan war who perform secret black',\n",
              "  'follows the nameless a penal military unit serving the nation of gallia during the second europan war who perform secret black operations',\n",
              "  'the nameless a penal military unit serving the nation of gallia during the second europan war who perform secret black operations and',\n",
              "  'nameless a penal military unit serving the nation of gallia during the second europan war who perform secret black operations and are',\n",
              "  'a penal military unit serving the nation of gallia during the second europan war who perform secret black operations and are pitted',\n",
              "  'penal military unit serving the nation of gallia during the second europan war who perform secret black operations and are pitted against',\n",
              "  'military unit serving the nation of gallia during the second europan war who perform secret black operations and are pitted against the',\n",
              "  'unit serving the nation of gallia during the second europan war who perform secret black operations and are pitted against the imperial',\n",
              "  'serving the nation of gallia during the second europan war who perform secret black operations and are pitted against the imperial unit',\n",
              "  'the nation of gallia during the second europan war who perform secret black operations and are pitted against the imperial unit raven']]"
            ]
          },
          "metadata": {},
          "execution_count": 22
        }
      ]
    },
    {
      "cell_type": "code",
      "source": [
        "#Making one master_list\n",
        "unpadded_sequence_master = sum(tqdm(line_sequence, desc=\"Summing Sequences\"), [])\n"
      ],
      "metadata": {
        "colab": {
          "base_uri": "https://localhost:8080/"
        },
        "id": "6XREbNxZIOpb",
        "outputId": "cb408c15-f2da-4ac8-aea3-ad53a8981dcf"
      },
      "execution_count": 23,
      "outputs": [
        {
          "output_type": "stream",
          "name": "stderr",
          "text": [
            "Summing Sequences: 100%|██████████| 23335/23335 [09:18<00:00, 41.82it/s]\n"
          ]
        }
      ]
    },
    {
      "cell_type": "code",
      "source": [
        "unpadded_sequence_master[:4]"
      ],
      "metadata": {
        "colab": {
          "base_uri": "https://localhost:8080/"
        },
        "id": "yPsemFRtI1zA",
        "outputId": "8f3f5290-c106-4162-e7cf-1064aaa6ec08"
      },
      "execution_count": 24,
      "outputs": [
        {
          "output_type": "execute_result",
          "data": {
            "text/plain": [
              "['valkyria chronicles iii',\n",
              " 'senj no valkyria chronicles japanese lit valkyria of the battlefield commonly referred to as valkyria chronicles iii outside japan is a tactical',\n",
              " 'no valkyria chronicles japanese lit valkyria of the battlefield commonly referred to as valkyria chronicles iii outside japan is a tactical role',\n",
              " 'valkyria chronicles japanese lit valkyria of the battlefield commonly referred to as valkyria chronicles iii outside japan is a tactical role playing']"
            ]
          },
          "metadata": {},
          "execution_count": 24
        }
      ]
    },
    {
      "cell_type": "code",
      "source": [
        "len(unpadded_sequence_master)"
      ],
      "metadata": {
        "id": "VmIS0Z2eKhLk"
      },
      "execution_count": null,
      "outputs": []
    },
    {
      "cell_type": "code",
      "source": [
        "#Breaking into input and target sequences\n",
        "x=[]\n",
        "y=[]\n",
        "for s in unpadded_sequence_master:\n",
        "  x.append(\" \".join(s.split()[:-1]))\n",
        "  y.append(\" \".join(s.split()[1:]))"
      ],
      "metadata": {
        "id": "sLjBXR4SKjj_"
      },
      "execution_count": 25,
      "outputs": []
    },
    {
      "cell_type": "code",
      "source": [
        "# Let's check the i/p o/p sequences\n",
        "x[1],y[1]"
      ],
      "metadata": {
        "colab": {
          "base_uri": "https://localhost:8080/"
        },
        "id": "KLo3aXRTKoXe",
        "outputId": "69089d80-b7f8-4c55-a74d-bdd970828926"
      },
      "execution_count": 38,
      "outputs": [
        {
          "output_type": "execute_result",
          "data": {
            "text/plain": [
              "('senj no valkyria chronicles japanese lit valkyria of the battlefield commonly referred to as valkyria chronicles iii outside japan is a',\n",
              " 'no valkyria chronicles japanese lit valkyria of the battlefield commonly referred to as valkyria chronicles iii outside japan is a tactical')"
            ]
          },
          "metadata": {},
          "execution_count": 38
        }
      ]
    },
    {
      "cell_type": "markdown",
      "source": [
        "# **Train test split**"
      ],
      "metadata": {
        "id": "7QkiYruuKwIn"
      }
    },
    {
      "cell_type": "code",
      "source": [
        "#Train test split\n",
        "split=int(len(x)*0.7)\n",
        "x_train=x[:split]\n",
        "x_test=x[split:]\n",
        "\n",
        "y_train=y[:split]\n",
        "y_test=y[split:]"
      ],
      "metadata": {
        "id": "J_4J7i-CKuUA"
      },
      "execution_count": 27,
      "outputs": []
    },
    {
      "cell_type": "markdown",
      "source": [
        "# **Text to Integer Sequences**"
      ],
      "metadata": {
        "id": "6_K9MfUIK5Hs"
      }
    },
    {
      "cell_type": "code",
      "source": [
        "#Converting text to integer sequences\n",
        "x_train_sequence=x_tokenizer.texts_to_sequences(x_train)\n",
        "x_test_sequence=x_tokenizer.texts_to_sequences(x_test)\n",
        "y_train_sequence=x_tokenizer.texts_to_sequences(y_train)\n",
        "y_test_sequence=x_tokenizer.texts_to_sequences(y_test)"
      ],
      "metadata": {
        "id": "fAQMpAiHKu9Q"
      },
      "execution_count": 28,
      "outputs": []
    },
    {
      "cell_type": "code",
      "source": [
        "#Creating padded sequence\n",
        "x_train_sequence_padded=pad_sequences(x_train_sequence,padding='post',maxlen=21)\n",
        "y_train_sequence_padded=pad_sequences(y_train_sequence,padding='post',maxlen=21)\n",
        "\n",
        "x_test_sequence_padded=pad_sequences(x_test_sequence,padding='post',maxlen=21)\n",
        "y_test_sequence_padded=pad_sequences(y_test_sequence,padding='post',maxlen=21)"
      ],
      "metadata": {
        "id": "9kdyhkQOLGtQ"
      },
      "execution_count": 34,
      "outputs": []
    },
    {
      "cell_type": "code",
      "source": [
        "#Including teh padded sequence in the vocab\n",
        "vocab_size=x_tokenizer.num_words+1"
      ],
      "metadata": {
        "id": "Lx3rErsYLRTI"
      },
      "execution_count": 80,
      "outputs": []
    },
    {
      "cell_type": "code",
      "source": [
        "#Let's check the shape\n",
        "x_train_sequence_padded.shape,x_test_sequence_padded.shape,y_train_sequence_padded.shape,y_test_sequence_padded.shape"
      ],
      "metadata": {
        "colab": {
          "base_uri": "https://localhost:8080/"
        },
        "id": "5sJ9URzGMFAB",
        "outputId": "a62ed950-b792-4c9e-92c2-ea4f24019750"
      },
      "execution_count": 37,
      "outputs": [
        {
          "output_type": "execute_result",
          "data": {
            "text/plain": [
              "((913284, 21), (391408, 21), (913284, 21), (391408, 21))"
            ]
          },
          "metadata": {},
          "execution_count": 37
        }
      ]
    },
    {
      "cell_type": "code",
      "source": [
        "#Convert to array\n",
        "x_train_sequence_padded=np.array(x_train_sequence_padded[:10000,:])\n",
        "y_train_sequence_padded=np.array(y_train_sequence_padded[:10000,:])\n",
        "x_test_sequence_padded=np.array(x_test_sequence_padded[:10000,:])\n",
        "y_test_sequence_padded=np.array(y_test_sequence_padded[:10000,:])"
      ],
      "metadata": {
        "id": "Z4hBtSIDWznf"
      },
      "execution_count": 96,
      "outputs": []
    },
    {
      "cell_type": "code",
      "source": [
        "#Let's check the shape\n",
        "x_train_sequence_padded.shape,x_test_sequence_padded.shape,y_train_sequence_padded.shape,y_test_sequence_padded.shape"
      ],
      "metadata": {
        "colab": {
          "base_uri": "https://localhost:8080/"
        },
        "id": "sMgUfnB3Z8bG",
        "outputId": "2fa2f899-569b-4f40-80f7-ec2c0569a6a2"
      },
      "execution_count": 97,
      "outputs": [
        {
          "output_type": "execute_result",
          "data": {
            "text/plain": [
              "((10000, 21), (10000, 21), (10000, 21), (10000, 21))"
            ]
          },
          "metadata": {},
          "execution_count": 97
        }
      ]
    },
    {
      "cell_type": "code",
      "source": [
        "class GRUModel(nn.Module):\n",
        "    def __init__(self, vocab_size, embedding_dim, hidden_size, num_layers, output_size, dropout_prob):\n",
        "        super(GRUModel, self).__init__()\n",
        "        self.hidden_size = hidden_size\n",
        "        self.num_layers = num_layers\n",
        "\n",
        "        self.embedding = nn.Embedding(vocab_size, embedding_dim)\n",
        "        self.gru = nn.GRU(embedding_dim, hidden_size, num_layers, batch_first=True, dropout=dropout_prob)\n",
        "        self.dropout = nn.Dropout(dropout_prob)\n",
        "        self.fc = nn.Linear(hidden_size, output_size)\n",
        "\n",
        "    def forward(self, x, h):\n",
        "        x = self.embedding(x)\n",
        "        x, h = self.gru(x, h)\n",
        "        x = x.reshape(-1, self.hidden_size)\n",
        "        x = self.dropout(x)\n",
        "        x = self.fc(x)  # Take the output of the last time step\n",
        "        return x, h\n",
        "\n",
        "    def init_hidden(self, batch_size):\n",
        "        return torch.zeros(self.num_layers, batch_size, self.hidden_size)\n",
        "\n",
        "# Parameters\n",
        "embedding_dim = 128\n",
        "hidden_size = 256\n",
        "num_layers = 2\n",
        "output_size = vocab_size  # Predicting the next word, so output size is vocab size\n",
        "dropout_prob = 0.5\n",
        "\n",
        "# Initialize the model\n",
        "net = GRUModel(vocab_size, embedding_dim, hidden_size, num_layers, output_size, dropout_prob)\n"
      ],
      "metadata": {
        "id": "HE0CcCZJQoGI"
      },
      "execution_count": 98,
      "outputs": []
    },
    {
      "cell_type": "code",
      "source": [
        "print(net)"
      ],
      "metadata": {
        "colab": {
          "base_uri": "https://localhost:8080/"
        },
        "id": "FU5D_j8SSb-O",
        "outputId": "d82f7eab-2772-4136-97ff-69793e1aa0a0"
      },
      "execution_count": 99,
      "outputs": [
        {
          "output_type": "stream",
          "name": "stdout",
          "text": [
            "GRUModel(\n",
            "  (embedding): Embedding(22481, 128)\n",
            "  (gru): GRU(128, 256, num_layers=2, batch_first=True, dropout=0.5)\n",
            "  (dropout): Dropout(p=0.5, inplace=False)\n",
            "  (fc): Linear(in_features=256, out_features=22481, bias=True)\n",
            ")\n"
          ]
        }
      ]
    },
    {
      "cell_type": "code",
      "source": [
        "def get_batches(arr_x,arr_y,batch_size):\n",
        "  prv=0\n",
        "  for n in range(batch_size,arr_x.shape[0],batch_size):\n",
        "    x=arr_x[prv:n,:]\n",
        "    y=arr_y[prv:n,:]\n",
        "    prv=n\n",
        "    yield x,y"
      ],
      "metadata": {
        "id": "b5KvBf6bVyBL"
      },
      "execution_count": 100,
      "outputs": []
    },
    {
      "cell_type": "code",
      "source": [
        "def train(net, epochs=10, batch_size=32, lr=0.001, print_every=32):\n",
        "    best_valid_loss = float('inf')\n",
        "\n",
        "    # Optimizer\n",
        "    opt = torch.optim.Adam(net.parameters(), lr=lr)\n",
        "\n",
        "    # Loss function\n",
        "    criterion = nn.CrossEntropyLoss()\n",
        "\n",
        "    counter = 0\n",
        "    net.train()\n",
        "\n",
        "    for e in range(epochs):\n",
        "        h = net.init_hidden(batch_size)\n",
        "\n",
        "        for x, y in tqdm(get_batches(x_train_sequence_padded, y_train_sequence_padded, batch_size)):\n",
        "            counter += 1\n",
        "\n",
        "            inputs, targets = torch.from_numpy(x), torch.from_numpy(y)\n",
        "            targets = targets.long()\n",
        "\n",
        "            h = h.detach()  # Detach hidden state to prevent backprop through entire training history\n",
        "            net.zero_grad()\n",
        "\n",
        "            output, h = net(inputs, h)\n",
        "            loss = criterion(output, targets.view(-1))\n",
        "            loss.backward()\n",
        "            opt.step()\n",
        "\n",
        "            if counter % print_every == 0:\n",
        "                val_losses = []\n",
        "                net.eval()\n",
        "\n",
        "                with torch.no_grad():\n",
        "                    for x_val, y_val in get_batches(x_test_sequence_padded, y_test_sequence_padded, batch_size):\n",
        "                        x_val, y_val = torch.from_numpy(x_val), torch.from_numpy(y_val)\n",
        "                        y_val = y_val.long()\n",
        "\n",
        "                        val_h = net.init_hidden(batch_size)\n",
        "                        output_val, val_h = net(x_val, val_h)\n",
        "                        val_loss = criterion(output_val, y_val.view(-1))\n",
        "                        val_losses.append(val_loss.item())\n",
        "\n",
        "                avg_val_loss = np.mean(val_losses)\n",
        "                if avg_val_loss < best_valid_loss:\n",
        "                    best_valid_loss = avg_val_loss\n",
        "                    torch.save(net.state_dict(), 'saved_weights.pt')\n",
        "\n",
        "                net.train()\n",
        "\n",
        "                print(f\"Epoch: {e+1}/{epochs}, Step: {counter}, Loss: {loss.item()}, Val_loss: {avg_val_loss}\")\n"
      ],
      "metadata": {
        "id": "n1yDowOyVajI"
      },
      "execution_count": 101,
      "outputs": []
    },
    {
      "cell_type": "code",
      "source": [
        "# Training the model\n",
        "batch_size = 32\n",
        "train(net, batch_size=batch_size, epochs=1)"
      ],
      "metadata": {
        "colab": {
          "base_uri": "https://localhost:8080/"
        },
        "collapsed": true,
        "id": "H2esg9tVWNZ1",
        "outputId": "58cbd6a8-cb0b-4189-a325-ce085fb228c0"
      },
      "execution_count": null,
      "outputs": [
        {
          "output_type": "stream",
          "name": "stderr",
          "text": [
            "19it [00:22,  1.19it/s]"
          ]
        }
      ]
    },
    {
      "cell_type": "code",
      "source": [
        "path= 'saved_weights.pt'\n",
        "net.load_state_dict(torch.load(path))"
      ],
      "metadata": {
        "colab": {
          "base_uri": "https://localhost:8080/"
        },
        "id": "ROUPTWwsaxAN",
        "outputId": "c67b08d9-0b3c-4d3f-be93-891c53c521a2"
      },
      "execution_count": 123,
      "outputs": [
        {
          "output_type": "execute_result",
          "data": {
            "text/plain": [
              "<All keys matched successfully>"
            ]
          },
          "metadata": {},
          "execution_count": 123
        }
      ]
    },
    {
      "cell_type": "code",
      "source": [
        "word_index = x_tokenizer.word_index\n",
        "reverse_word_index = {index: word for word, index in word_index.items()}"
      ],
      "metadata": {
        "id": "93ZyWLLnazXO"
      },
      "execution_count": 124,
      "outputs": []
    },
    {
      "cell_type": "code",
      "source": [
        "def predict(net,token,h=None):\n",
        "  x=np.array([[x_tokenizer.word_index[token]]])\n",
        "  input=torch.from_numpy(x)\n",
        "  print(input)\n",
        "  out,h=net(input,h)\n",
        "  print(out)\n",
        "  p=F.softmax(out,dim=1).data\n",
        "  p=p.numpy()\n",
        "  sampled_token_index = np.argmax(p, axis = 1)[0]\n",
        "  print()\n",
        "  b=reverse_word_index.get(sampled_token_index)\n",
        "  print(b)\n",
        "  return b,h"
      ],
      "metadata": {
        "id": "TJMgqs3bWOAL"
      },
      "execution_count": 125,
      "outputs": []
    },
    {
      "cell_type": "code",
      "source": [
        "def sample(net,size=2,seed_text='game developed'):\n",
        "  net.eval()\n",
        "  h=net.init_hidden(1)\n",
        "  toks=seed_text.split()\n",
        "  for t in toks:\n",
        "    print (t)\n",
        "    token,h=predict(net,t,h)\n",
        "  toks.append(token)\n",
        "  print(\"Here is toks\")\n",
        "  print(toks)\n",
        "  for i in range(size-1):\n",
        "    token,h=predict(net,toks[-1],h)\n",
        "    toks.append(token)\n",
        "  return ' '.join(toks)"
      ],
      "metadata": {
        "id": "7Zf_AksidG6G"
      },
      "execution_count": 126,
      "outputs": []
    },
    {
      "cell_type": "code",
      "source": [
        "sample(net,4)"
      ],
      "metadata": {
        "colab": {
          "base_uri": "https://localhost:8080/",
          "height": 539
        },
        "id": "oQWDf4PKdgIn",
        "outputId": "af2debb5-4b81-4fc2-fa44-c80a3602aa2b"
      },
      "execution_count": 127,
      "outputs": [
        {
          "output_type": "stream",
          "name": "stdout",
          "text": [
            "game\n",
            "tensor([[60]])\n",
            "tensor([[-0.8081,  0.1196,  0.8141,  ..., -3.5712, -3.3532, -3.3966]],\n",
            "       grad_fn=<AddmmBackward0>)\n",
            "\n",
            "'s\n",
            "developed\n",
            "tensor([[406]])\n",
            "tensor([[-2.1674,  0.6015,  1.1629,  ..., -5.4145, -5.2029, -5.3338]],\n",
            "       grad_fn=<AddmmBackward0>)\n",
            "\n",
            "the\n",
            "Here is toks\n",
            "['game', 'developed', 'the']\n",
            "tensor([[2]])\n",
            "tensor([[-2.0846,  1.3743, -1.6246,  ..., -3.7618, -3.5509, -3.7788]],\n",
            "       grad_fn=<AddmmBackward0>)\n",
            "\n",
            "blue\n",
            "tensor([[622]])\n",
            "tensor([[-0.8750,  0.6295,  2.0625,  ..., -6.1072, -6.1656, -6.5067]],\n",
            "       grad_fn=<AddmmBackward0>)\n",
            "\n",
            "jackets\n",
            "tensor([[3615]])\n",
            "tensor([[ 0.3965, -0.1504,  2.4363,  ..., -6.6838, -6.7719, -7.0825]],\n",
            "       grad_fn=<AddmmBackward0>)\n",
            "\n",
            "jackets\n"
          ]
        },
        {
          "output_type": "execute_result",
          "data": {
            "text/plain": [
              "'game developed the blue jackets jackets'"
            ],
            "application/vnd.google.colaboratory.intrinsic+json": {
              "type": "string"
            }
          },
          "metadata": {},
          "execution_count": 127
        }
      ]
    },
    {
      "cell_type": "code",
      "source": [],
      "metadata": {
        "id": "DPM6MM2OdifB"
      },
      "execution_count": null,
      "outputs": []
    }
  ]
}